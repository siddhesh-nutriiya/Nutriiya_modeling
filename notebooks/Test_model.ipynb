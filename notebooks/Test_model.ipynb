{
 "cells": [
  {
   "cell_type": "code",
   "execution_count": null,
   "id": "20c26b82",
   "metadata": {},
   "outputs": [],
   "source": [
    "import torch\n",
    "import torch.nn as nn\n",
    "from torchvision import models, transforms\n",
    "from PIL import Image\n",
    "import os\n",
    "import sys\n",
    "import os\n",
    "\n",
    "# Adjust this to point to the project root (where 'src/' exists)\n",
    "project_root = os.path.abspath(os.path.join(os.getcwd(), '..'))  # one level up from notebooks/\n",
    "sys.path.append(project_root)\n",
    "\n",
    "# Now import works\n",
    "from src.data.data_loader import get_image_dataloaders# or use test dataset manually\n"
   ]
  },
  {
   "cell_type": "code",
   "execution_count": null,
   "id": "b5aae1a0",
   "metadata": {},
   "outputs": [],
   "source": [
    "num_classes = 101 "
   ]
  },
  {
   "cell_type": "code",
   "execution_count": null,
   "id": "3bc3af83",
   "metadata": {},
   "outputs": [],
   "source": [
    "class CustomResNet(nn.Module):\n",
    "    def __init__(self, base_model, num_classes, dropout_prob):\n",
    "        super().__init__()\n",
    "        self.features = nn.Sequential(*list(base_model.children())[:-1])\n",
    "        self.dropout = nn.Dropout(dropout_prob)\n",
    "        self.fc = nn.Linear(base_model.fc.in_features, num_classes)\n",
    "\n",
    "    def forward(self, x):\n",
    "        x = self.features(x)\n",
    "        x = torch.flatten(x, 1)\n",
    "        x = self.dropout(x)\n",
    "        x = self.fc(x)\n",
    "        return x"
   ]
  },
  {
   "cell_type": "code",
   "execution_count": null,
   "id": "7c9d4620",
   "metadata": {},
   "outputs": [],
   "source": [
    "# Parameters (match config.yaml used during training)\n",
    "project_root = os.path.abspath(os.path.join(os.getcwd(), '..'))  # one level up\n",
    "model_path = os.path.join(project_root, 'models', 'model_v1', 'best.pth')\n",
    "print(model_path) \n",
    "dropout_prob = 0.5  # same as used during training\n",
    "num_classes = 101   # <-- fix here\n",
    "\n",
    "device = torch.device(\"cuda\" if torch.cuda.is_available() else \"cpu\")\n",
    "\n",
    "# Build model\n",
    "base_model = models.resnet18(weights=None)\n",
    "model = CustomResNet(base_model, num_classes, dropout_prob)\n",
    "model.load_state_dict(torch.load(model_path, map_location=device))\n",
    "model.to(device)\n",
    "model.eval()\n"
   ]
  },
  {
   "cell_type": "code",
   "execution_count": null,
   "id": "c4c4475c",
   "metadata": {},
   "outputs": [],
   "source": [
    "_, test_loader, _ = get_image_dataloaders(\n",
    "    data_dir=os.path.join(project_root, 'Data', '1', 'test'),\n",
    "    batch_size=128,\n",
    "    img_size=224,\n",
    "    num_workers=4,\n",
    "    val_split=False\n",
    ")\n"
   ]
  },
  {
   "cell_type": "code",
   "execution_count": null,
   "id": "a73ad5b7",
   "metadata": {},
   "outputs": [],
   "source": [
    "correct, total = 0, 0\n",
    "with torch.no_grad():\n",
    "    for images, labels in test_loader:\n",
    "        images, labels = images.to(device), labels.to(device)\n",
    "        outputs = model(images)\n",
    "        preds = outputs.argmax(dim=1)\n",
    "        correct += (preds == labels).sum().item()\n",
    "        total += labels.size(0)\n",
    "\n",
    "print(f\"Test Accuracy: {correct / total:.4f}\")\n"
   ]
  },
  {
   "cell_type": "code",
   "execution_count": null,
   "id": "20528924",
   "metadata": {},
   "outputs": [],
   "source": [
    "import os\n",
    "import random\n",
    "import matplotlib.pyplot as plt\n",
    "from torchvision import transforms\n",
    "from PIL import Image\n",
    "import torch\n",
    "\n",
    "from torchvision.datasets import ImageFolder\n",
    "\n",
    "root_dir = os.path.join(project_root, 'Data', '1', 'test')  # change this to your image folder path\n",
    "# Get class mapping\n",
    "temp_dataset = ImageFolder(root=root_dir)\n",
    "class_to_idx = temp_dataset.class_to_idx\n",
    "idx_to_class = {v: k for k, v in class_to_idx.items()}\n",
    "\n",
    "# ---- PARAMETERS ----\n",
    "root_dir = os.path.join(project_root, 'Data', '1', 'test') # change this to your image folder path\n",
    "num_images = 10\n",
    "img_size = 224\n",
    "\n",
    "# ---- TRANSFORMS ----\n",
    "transform = transforms.Compose([\n",
    "    transforms.Resize((img_size, img_size)),\n",
    "    transforms.ToTensor(),\n",
    "])\n",
    "\n",
    "# ---- GET IMAGE PATHS WITH LABELS ----\n",
    "image_paths = []\n",
    "class_labels = []\n",
    "\n",
    "for class_name in os.listdir(root_dir):\n",
    "    class_dir = os.path.join(root_dir, class_name)\n",
    "    if not os.path.isdir(class_dir):\n",
    "        continue\n",
    "    for fname in os.listdir(class_dir):\n",
    "        if fname.lower().endswith((\".jpg\", \".jpeg\", \".png\")):\n",
    "            image_paths.append(os.path.join(class_dir, fname))\n",
    "            class_labels.append(class_name)\n",
    "\n",
    "# ---- SAMPLE RANDOM 10 ----\n",
    "samples = random.sample(list(zip(image_paths, class_labels)), num_images)\n",
    "\n",
    "# ---- PREDICT & PLOT ----\n",
    "fig, axes = plt.subplots(2, 5, figsize=(20, 8))\n",
    "axes = axes.flatten()\n",
    "\n",
    "for idx, (img_path, actual_class) in enumerate(samples):\n",
    "    img = Image.open(img_path).convert('RGB')\n",
    "    img_tensor = transform(img).unsqueeze(0).to(device)\n",
    "\n",
    "    with torch.no_grad():\n",
    "        output = model(img_tensor)\n",
    "        pred_idx = output.argmax(dim=1).item()\n",
    "\n",
    "    predicted_class = list(class_to_idx.keys())[list(class_to_idx.values()).index(pred_idx)]\n",
    "\n",
    "    axes[idx].imshow(img)\n",
    "    axes[idx].axis('off')\n",
    "    axes[idx].set_title(f\"Pred: {predicted_class}\\nActual: {actual_class}\", fontsize=12)\n",
    "\n",
    "plt.tight_layout()\n",
    "plt.show()"
   ]
  },
  {
   "cell_type": "code",
   "execution_count": null,
   "id": "11f14f10",
   "metadata": {},
   "outputs": [],
   "source": []
  }
 ],
 "metadata": {
  "kernelspec": {
   "display_name": "myvenv",
   "language": "python",
   "name": "python3"
  },
  "language_info": {
   "codemirror_mode": {
    "name": "ipython",
    "version": 3
   },
   "file_extension": ".py",
   "mimetype": "text/x-python",
   "name": "python",
   "nbconvert_exporter": "python",
   "pygments_lexer": "ipython3",
   "version": "3.13.5"
  }
 },
 "nbformat": 4,
 "nbformat_minor": 5
}
