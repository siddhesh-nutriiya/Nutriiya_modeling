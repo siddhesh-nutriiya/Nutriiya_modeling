{
 "cells": [
  {
   "cell_type": "code",
   "execution_count": null,
   "id": "3f0e8810",
   "metadata": {},
   "outputs": [],
   "source": [
    "import pandas as pd\n",
    "import numpy as np\n",
    "import torch\n",
    "import os\n",
    "from torchvision import datasets, transforms\n",
    "from torch.utils.data import DataLoader, random_split\n",
    "import matplotlib.pyplot as plt"
   ]
  },
  {
   "cell_type": "code",
   "execution_count": null,
   "id": "7adad385",
   "metadata": {},
   "outputs": [],
   "source": [
    "def get_image_dataloaders(\n",
    "    data_dir,\n",
    "    batch_size=32,\n",
    "    img_size=224,\n",
    "    val_split=False,\n",
    "    val_ratio=0.2,\n",
    "    shuffle=True,\n",
    "    seed=42\n",
    "):\n",
    "    \"\"\"\n",
    "    Loads image data from a directory and returns train and test DataLoaders.\n",
    "    If data_dir contains only one folder with class subfolders, it splits into train/test.\n",
    "    If 'train' and 'test' subfolders exist, it loads them directly.\n",
    "    If 'val' exists, it is merged with train.\n",
    "    \"\"\"\n",
    "    transform = transforms.Compose([\n",
    "        transforms.Resize((img_size, img_size)),\n",
    "        transforms.ToTensor(),\n",
    "    ])\n",
    "\n",
    "    # Check for 'train' and 'test' subfolders\n",
    "    train_path = os.path.join(data_dir, 'train')\n",
    "    test_path = os.path.join(data_dir, 'test')\n",
    "    val_path = os.path.join(data_dir, 'val')\n",
    "\n",
    "    if os.path.isdir(train_path) and os.path.isdir(test_path):\n",
    "        train_dataset = datasets.ImageFolder(train_path, transform=transform)\n",
    "        test_dataset = datasets.ImageFolder(test_path, transform=transform)\n",
    "        # If val exists, merge with train\n",
    "        if os.path.isdir(val_path):\n",
    "            val_dataset = datasets.ImageFolder(val_path, transform=transform)\n",
    "            train_dataset.samples += val_dataset.samples\n",
    "            train_dataset.targets += val_dataset.targets\n",
    "    else:\n",
    "        # Assume data_dir contains class subfolders directly\n",
    "        full_dataset = datasets.ImageFolder(data_dir, transform=transform)\n",
    "        n_total = len(full_dataset)\n",
    "        n_test = int(val_ratio * n_total)\n",
    "        n_train = n_total - n_test\n",
    "        train_dataset, test_dataset = random_split(\n",
    "            full_dataset, [n_train, n_test],\n",
    "            generator=torch.Generator().manual_seed(seed)\n",
    "        )\n",
    "\n",
    "    train_loader = DataLoader(train_dataset, batch_size=batch_size, shuffle=shuffle)\n",
    "    test_loader = DataLoader(test_dataset, batch_size=batch_size, shuffle=False)\n",
    "    return train_loader, test_loader\n"
   ]
  },
  {
   "cell_type": "code",
   "execution_count": null,
   "id": "ca384b1d",
   "metadata": {},
   "outputs": [],
   "source": [
    "train_loader, test_loader = get_image_dataloaders('../data/food-101')"
   ]
  },
  {
   "cell_type": "code",
   "execution_count": null,
   "id": "145bb170",
   "metadata": {},
   "outputs": [],
   "source": [
    "train_loader"
   ]
  },
  {
   "cell_type": "code",
   "execution_count": null,
   "id": "70f689b8",
   "metadata": {},
   "outputs": [],
   "source": [
    "def show_one_image_from_loader(loader, class_names=None):\n",
    "    \"\"\"\n",
    "    Displays one image and its label from a given DataLoader.\n",
    "    Args:\n",
    "        loader: PyTorch DataLoader (train_loader, val_loader, or test_loader)\n",
    "        class_names: Optional list of class names to display instead of label index\n",
    "    \"\"\"\n",
    "    images, labels = next(iter(loader))\n",
    "    img = images[0]\n",
    "    label = labels[0]\n",
    "    img_np = img.numpy().transpose(1, 2, 0)\n",
    "    plt.imshow(img_np)\n",
    "    if class_names:\n",
    "        plt.title(f\"Label: {class_names[label.item()]}\")\n",
    "    else:\n",
    "        plt.title(f\"Label: {label.item()}\")\n",
    "    plt.axis('off')\n",
    "    plt.show()\n",
    "\n",
    "# Example usage:\n",
    "show_one_image_from_loader(train_loader)\n",
    "show_one_image_from_loader(test_loader)"
   ]
  },
  {
   "cell_type": "code",
   "execution_count": null,
   "id": "08fefbf8",
   "metadata": {},
   "outputs": [],
   "source": [
    "# Get class names from the train dataset\n",
    "train_dataset = train_loader.dataset\n",
    "test_dataset = test_loader.dataset\n",
    "\n",
    "print(\"Train classes:\", train_dataset.classes)\n",
    "print(\"Test classes: \", test_dataset.classes)\n",
    "\n",
    "# Check that all have the same number of classes\n",
    "print(\"Train classes:\", len(train_dataset.classes))\n",
    "print(\"Test classes: \", len(test_dataset.classes))\n",
    "\n",
    "# Check that class-to-index mapping is the same\n",
    "print(\"Train class_to_idx:\", train_dataset.class_to_idx)\n",
    "print(\"Test class_to_idx: \", test_dataset.class_to_idx)"
   ]
  },
  {
   "cell_type": "code",
   "execution_count": null,
   "id": "2b27969a",
   "metadata": {},
   "outputs": [],
   "source": []
  },
  {
   "cell_type": "code",
   "execution_count": null,
   "id": "65f6cc43",
   "metadata": {},
   "outputs": [],
   "source": [
    "def update_master_classes(data_dir, master_file='./src/classes/master_classes.txt'):\n",
    "    # Read existing classes\n",
    "    if os.path.exists(master_file):\n",
    "        with open(master_file, 'r') as f:\n",
    "            master_classes = set(line.strip() for line in f)\n",
    "    else:\n",
    "        master_classes = set()\n",
    "    # Find all class folders in new data\n",
    "    new_classes = set(os.listdir(data_dir))\n",
    "    # Update master list\n",
    "    updated = master_classes | new_classes\n",
    "    with open(master_file, 'w') as f:\n",
    "        for cls in sorted(updated):\n",
    "            f.write(f\"{cls}\\n\")\n",
    "    print(f\"Updated master_classes.txt with {len(updated)} classes.\")\n"
   ]
  },
  {
   "cell_type": "code",
   "execution_count": null,
   "id": "e54c4b26",
   "metadata": {},
   "outputs": [],
   "source": [
    "101000/2683"
   ]
  }
 ],
 "metadata": {
  "kernelspec": {
   "display_name": "myvenv",
   "language": "python",
   "name": "python3"
  },
  "language_info": {
   "codemirror_mode": {
    "name": "ipython",
    "version": 3
   },
   "file_extension": ".py",
   "mimetype": "text/x-python",
   "name": "python",
   "nbconvert_exporter": "python",
   "pygments_lexer": "ipython3",
   "version": "3.13.5"
  }
 },
 "nbformat": 4,
 "nbformat_minor": 5
}
